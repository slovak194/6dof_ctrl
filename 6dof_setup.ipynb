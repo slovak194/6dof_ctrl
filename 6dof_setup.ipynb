{
  "nbformat": 4,
  "nbformat_minor": 0,
  "metadata": {
    "colab": {
      "name": "6dof_setup",
      "version": "0.3.2",
      "provenance": [],
      "collapsed_sections": [],
      "include_colab_link": true
    },
    "kernelspec": {
      "name": "python3",
      "display_name": "Python 3"
    }
  },
  "cells": [
    {
      "cell_type": "markdown",
      "metadata": {
        "id": "view-in-github",
        "colab_type": "text"
      },
      "source": [
        "<a href=\"https://colab.research.google.com/github/slovak194/6dof_ctrl/blob/master/6dof_setup.ipynb\" target=\"_parent\"><img src=\"https://colab.research.google.com/assets/colab-badge.svg\" alt=\"Open In Colab\"/></a>"
      ]
    },
    {
      "cell_type": "code",
      "metadata": {
        "id": "X_m7bs3nBDL-",
        "colab_type": "code",
        "colab": {
          "base_uri": "https://localhost:8080/",
          "height": 87
        },
        "outputId": "0907164a-5919-493a-9b16-193a33a31758"
      },
      "source": [
        "#Generate root password\n",
        "import secrets, string\n",
        "# password = ''.join(secrets.choice(string.ascii_letters + string.digits) for i in range(20))\n",
        "password = \"SkorovgoriColab1\"\n",
        "\n",
        "#Download ngrok\n",
        "! wget -q -c -nc https://bin.equinox.io/c/4VmDzA7iaHb/ngrok-stable-linux-amd64.zip\n",
        "! unzip -qq -n ngrok-stable-linux-amd64.zip\n",
        "#Setup sshd\n",
        "! apt-get install -qq -o=Dpkg::Use-Pty=0 openssh-server pwgen > /dev/null\n",
        "#Set root password\n",
        "! echo root:$password | chpasswd\n",
        "! mkdir -p /var/run/sshd\n",
        "! echo \"PermitRootLogin yes\" >> /etc/ssh/sshd_config\n",
        "! echo \"PasswordAuthentication yes\" >> /etc/ssh/sshd_config\n",
        "! echo \"LD_LIBRARY_PATH=/usr/lib64-nvidia\" >> /root/.bashrc\n",
        "! echo \"export LD_LIBRARY_PATH\" >> /root/.bashrc\n",
        "\n",
        "#Run sshd\n",
        "get_ipython().system_raw('/usr/sbin/sshd -D &')\n",
        "\n",
        "#Ask token\n",
        "print(\"Copy authtoken from https://dashboard.ngrok.com/auth\")\n",
        "# 5nqRaPqkQvX87cyTEWLUV_6e2hkdMcGgbmJVUhxPrpY\n",
        "import getpass\n",
        "authtoken = getpass.getpass()\n",
        "\n",
        "#Create tunnel\n",
        "get_ipython().system_raw('./ngrok authtoken $authtoken && ./ngrok tcp 22 &')\n",
        "#Print root password\n",
        "print(\"Root password: {}\".format(password))\n",
        "#Get public address\n",
        "! curl -s http://localhost:4040/api/tunnels | python3 -c \\\n",
        "    \"import sys, json; print(json.load(sys.stdin)['tunnels'][0]['public_url'])\"\n",
        "\n",
        "# !kill -9 -1\n",
        "# If tunnell is still alive\n"
      ],
      "execution_count": 1,
      "outputs": [
        {
          "output_type": "stream",
          "text": [
            "Copy authtoken from https://dashboard.ngrok.com/auth\n",
            "··········\n",
            "Root password: SkorovgoriColab1\n",
            "tcp://0.tcp.ngrok.io:11866\n"
          ],
          "name": "stdout"
        }
      ]
    },
    {
      "cell_type": "code",
      "metadata": {
        "id": "VFOtFPRLg8qS",
        "colab_type": "code",
        "outputId": "5f6ee96d-15da-4faa-ea96-716c89d1a204",
        "colab": {
          "base_uri": "https://localhost:8080/",
          "height": 347
        }
      },
      "source": [
        "!rm -rf 6dof_ctrl\n",
        "!rm -rf bluerov_ffg\n",
        "!rm -rf Sophus\n",
        "\n",
        "!git clone https://github.com/slovak194/6dof_ctrl.git\n",
        "!git clone https://github.com/slovak194/bluerov_ffg.git\n",
        "!git clone https://github.com/slovak194/Sophus.git\n",
        "\n",
        "!cp -R Sophus/py/sophus 6dof_ctrl/\n",
        "\n",
        "%ls"
      ],
      "execution_count": 2,
      "outputs": [
        {
          "output_type": "stream",
          "text": [
            "Cloning into '6dof_ctrl'...\n",
            "remote: Enumerating objects: 189, done.\u001b[K\n",
            "remote: Counting objects:   0% (1/189)   \u001b[K\rremote: Counting objects:   1% (2/189)   \u001b[K\rremote: Counting objects:   2% (4/189)   \u001b[K\rremote: Counting objects:   3% (6/189)   \u001b[K\rremote: Counting objects:   4% (8/189)   \u001b[K\rremote: Counting objects:   5% (10/189)   \u001b[K\rremote: Counting objects:   6% (12/189)   \u001b[K\rremote: Counting objects:   7% (14/189)   \u001b[K\rremote: Counting objects:   8% (16/189)   \u001b[K\rremote: Counting objects:   9% (18/189)   \u001b[K\rremote: Counting objects:  10% (19/189)   \u001b[K\rremote: Counting objects:  11% (21/189)   \u001b[K\rremote: Counting objects:  12% (23/189)   \u001b[K\rremote: Counting objects:  13% (25/189)   \u001b[K\rremote: Counting objects:  14% (27/189)   \u001b[K\rremote: Counting objects:  15% (29/189)   \u001b[K\rremote: Counting objects:  16% (31/189)   \u001b[K\rremote: Counting objects:  17% (33/189)   \u001b[K\rremote: Counting objects:  18% (35/189)   \rremote: Counting objects:  19% (36/189)   \u001b[K\rremote: Counting objects:  20% (38/189)   \u001b[K\rremote: Counting objects:  21% (40/189)   \u001b[K\rremote: Counting objects:  22% (42/189)   \u001b[K\rremote: Counting objects:  23% (44/189)   \u001b[K\rremote: Counting objects:  24% (46/189)   \u001b[K\rremote: Counting objects:  25% (48/189)   \u001b[K\rremote: Counting objects:  26% (50/189)   \u001b[K\rremote: Counting objects:  27% (52/189)   \u001b[K\rremote: Counting objects:  28% (53/189)   \u001b[K\rremote: Counting objects:  29% (55/189)   \u001b[K\rremote: Counting objects:  30% (57/189)   \u001b[K\rremote: Counting objects:  31% (59/189)   \u001b[K\rremote: Counting objects:  32% (61/189)   \u001b[K\rremote: Counting objects:  33% (63/189)   \u001b[K\rremote: Counting objects:  34% (65/189)   \u001b[K\rremote: Counting objects:  35% (67/189)   \u001b[K\rremote: Counting objects:  36% (69/189)   \u001b[K\rremote: Counting objects:  37% (70/189)   \u001b[K\rremote: Counting objects:  38% (72/189)   \u001b[K\rremote: Counting objects:  39% (74/189)   \u001b[K\rremote: Counting objects:  40% (76/189)   \u001b[K\rremote: Counting objects:  41% (78/189)   \u001b[K\rremote: Counting objects:  42% (80/189)   \rremote: Counting objects:  43% (82/189)   \u001b[K\rremote: Counting objects:  44% (84/189)   \u001b[K\rremote: Counting objects:  45% (86/189)   \u001b[K\rremote: Counting objects:  46% (87/189)   \u001b[K\rremote: Counting objects:  47% (89/189)   \u001b[K\rremote: Counting objects:  48% (91/189)   \u001b[K\rremote: Counting objects:  49% (93/189)   \u001b[K\rremote: Counting objects:  50% (95/189)   \u001b[K\rremote: Counting objects:  51% (97/189)   \u001b[K\rremote: Counting objects:  52% (99/189)   \u001b[K\rremote: Counting objects:  53% (101/189)   \u001b[K\rremote: Counting objects:  54% (103/189)   \u001b[K\rremote: Counting objects:  55% (104/189)   \u001b[K\rremote: Counting objects:  56% (106/189)   \u001b[K\rremote: Counting objects:  57% (108/189)   \u001b[K\rremote: Counting objects:  58% (110/189)   \u001b[K\rremote: Counting objects:  59% (112/189)   \u001b[K\rremote: Counting objects:  60% (114/189)   \u001b[K\rremote: Counting objects:  61% (116/189)   \u001b[K\rremote: Counting objects:  62% (118/189)   \u001b[K\rremote: Counting objects:  63% (120/189)   \u001b[K\rremote: Counting objects:  64% (121/189)   \u001b[K\rremote: Counting objects:  65% (123/189)   \u001b[K\rremote: Counting objects:  66% (125/189)   \u001b[K\rremote: Counting objects:  67% (127/189)   \u001b[K\rremote: Counting objects:  68% (129/189)   \u001b[K\rremote: Counting objects:  69% (131/189)   \u001b[K\rremote: Counting objects:  70% (133/189)   \u001b[K\rremote: Counting objects:  71% (135/189)   \u001b[K\rremote: Counting objects:  72% (137/189)   \u001b[K\rremote: Counting objects:  73% (138/189)   \u001b[K\rremote: Counting objects:  74% (140/189)   \u001b[K\rremote: Counting objects:  75% (142/189)   \u001b[K\rremote: Counting objects:  76% (144/189)   \u001b[K\rremote: Counting objects:  77% (146/189)   \u001b[K\rremote: Counting objects:  78% (148/189)   \u001b[K\rremote: Counting objects:  79% (150/189)   \u001b[K\rremote: Counting objects:  80% (152/189)   \u001b[K\rremote: Counting objects:  81% (154/189)   \u001b[K\rremote: Counting objects:  82% (155/189)   \u001b[K\rremote: Counting objects:  83% (157/189)   \u001b[K\rremote: Counting objects:  84% (159/189)   \u001b[K\rremote: Counting objects:  85% (161/189)   \u001b[K\rremote: Counting objects:  86% (163/189)   \u001b[K\rremote: Counting objects:  87% (165/189)   \u001b[K\rremote: Counting objects:  88% (167/189)   \u001b[K\rremote: Counting objects:  89% (169/189)   \u001b[K\rremote: Counting objects:  90% (171/189)   \u001b[K\rremote: Counting objects:  91% (172/189)   \u001b[K\rremote: Counting objects:  92% (174/189)   \u001b[K\rremote: Counting objects:  93% (176/189)   \u001b[K\rremote: Counting objects:  94% (178/189)   \u001b[K\rremote: Counting objects:  95% (180/189)   \u001b[K\rremote: Counting objects:  96% (182/189)   \u001b[K\rremote: Counting objects:  97% (184/189)   \u001b[K\rremote: Counting objects:  98% (186/189)   \u001b[K\rremote: Counting objects:  99% (188/189)   \u001b[K\rremote: Counting objects: 100% (189/189)   \u001b[K\rremote: Counting objects: 100% (189/189), done.\u001b[K\n",
            "remote: Compressing objects:   0% (1/131)   \u001b[K\rremote: Compressing objects:   1% (2/131)   \u001b[K\rremote: Compressing objects:   2% (3/131)   \u001b[K\rremote: Compressing objects:   3% (4/131)   \u001b[K\rremote: Compressing objects:   4% (6/131)   \u001b[K\rremote: Compressing objects:   5% (7/131)   \u001b[K\rremote: Compressing objects:   6% (8/131)   \u001b[K\rremote: Compressing objects:   7% (10/131)   \u001b[K\rremote: Compressing objects:   8% (11/131)   \u001b[K\rremote: Compressing objects:   9% (12/131)   \u001b[K\rremote: Compressing objects:  10% (14/131)   \u001b[K\rremote: Compressing objects:  11% (15/131)   \u001b[K\rremote: Compressing objects:  12% (16/131)   \u001b[K\rremote: Compressing objects:  13% (18/131)   \u001b[K\rremote: Compressing objects:  14% (19/131)   \u001b[K\rremote: Compressing objects:  15% (20/131)   \u001b[K\rremote: Compressing objects:  16% (21/131)   \u001b[K\rremote: Compressing objects:  17% (23/131)   \u001b[K\rremote: Compressing objects:  18% (24/131)   \u001b[K\rremote: Compressing objects:  19% (25/131)   \u001b[K\rremote: Compressing objects:  20% (27/131)   \u001b[K\rremote: Compressing objects:  21% (28/131)   \u001b[K\rremote: Compressing objects:  22% (29/131)   \u001b[K\rremote: Compressing objects:  23% (31/131)   \u001b[K\rremote: Compressing objects:  24% (32/131)   \u001b[K\rremote: Compressing objects:  25% (33/131)   \u001b[K\rremote: Compressing objects:  26% (35/131)   \u001b[K\rremote: Compressing objects:  27% (36/131)   \u001b[K\rremote: Compressing objects:  28% (37/131)   \u001b[K\rremote: Compressing objects:  29% (38/131)   \u001b[K\rremote: Compressing objects:  30% (40/131)   \u001b[K\rremote: Compressing objects:  31% (41/131)   \u001b[K\rremote: Compressing objects:  32% (42/131)   \u001b[K\rremote: Compressing objects:  33% (44/131)   \u001b[K\rremote: Compressing objects:  34% (45/131)   \u001b[K\rremote: Compressing objects:  35% (46/131)   \u001b[K\rremote: Compressing objects:  36% (48/131)   \u001b[K\rremote: Compressing objects:  37% (49/131)   \u001b[K\rremote: Compressing objects:  38% (50/131)   \u001b[K\rremote: Compressing objects:  39% (52/131)   \u001b[K\rremote: Compressing objects:  40% (53/131)   \u001b[K\rremote: Compressing objects:  41% (54/131)   \u001b[K\rremote: Compressing objects:  42% (56/131)   \u001b[K\rremote: Compressing objects:  43% (57/131)   \u001b[K\rremote: Compressing objects:  44% (58/131)   \u001b[K\rremote: Compressing objects:  45% (59/131)   \u001b[K\rremote: Compressing objects:  46% (61/131)   \u001b[K\rremote: Compressing objects:  47% (62/131)   \u001b[K\rremote: Compressing objects:  48% (63/131)   \u001b[K\rremote: Compressing objects:  49% (65/131)   \u001b[K\rremote: Compressing objects:  50% (66/131)   \u001b[K\rremote: Compressing objects:  51% (67/131)   \u001b[K\rremote: Compressing objects:  52% (69/131)   \u001b[K\rremote: Compressing objects:  53% (70/131)   \u001b[K\rremote: Compressing objects:  54% (71/131)   \u001b[K\rremote: Compressing objects:  55% (73/131)   \u001b[K\rremote: Compressing objects:  56% (74/131)   \u001b[K\rremote: Compressing objects:  57% (75/131)   \u001b[K\rremote: Compressing objects:  58% (76/131)   \u001b[K\rremote: Compressing objects:  59% (78/131)   \u001b[K\rremote: Compressing objects:  60% (79/131)   \u001b[K\rremote: Compressing objects:  61% (80/131)   \u001b[K\rremote: Compressing objects:  62% (82/131)   \u001b[K\rremote: Compressing objects:  63% (83/131)   \u001b[K\rremote: Compressing objects:  64% (84/131)   \u001b[K\rremote: Compressing objects:  65% (86/131)   \u001b[K\rremote: Compressing objects:  66% (87/131)   \u001b[K\rremote: Compressing objects:  67% (88/131)   \u001b[K\rremote: Compressing objects:  68% (90/131)   \u001b[K\rremote: Compressing objects:  69% (91/131)   \u001b[K\rremote: Compressing objects:  70% (92/131)   \u001b[K\rremote: Compressing objects:  71% (94/131)   \u001b[K\rremote: Compressing objects:  72% (95/131)   \u001b[K\rremote: Compressing objects:  73% (96/131)   \u001b[K\rremote: Compressing objects:  74% (97/131)   \u001b[K\rremote: Compressing objects:  75% (99/131)   \u001b[K\rremote: Compressing objects:  76% (100/131)   \u001b[K\rremote: Compressing objects:  77% (101/131)   \u001b[K\rremote: Compressing objects:  78% (103/131)   \u001b[K\rremote: Compressing objects:  79% (104/131)   \u001b[K\rremote: Compressing objects:  80% (105/131)   \u001b[K\rremote: Compressing objects:  81% (107/131)   \u001b[K\rremote: Compressing objects:  82% (108/131)   \u001b[K\rremote: Compressing objects:  83% (109/131)   \u001b[K\rremote: Compressing objects:  84% (111/131)   \u001b[K\rremote: Compressing objects:  85% (112/131)   \u001b[K\rremote: Compressing objects:  86% (113/131)   \u001b[K\rremote: Compressing objects:  87% (114/131)   \u001b[K\rremote: Compressing objects:  88% (116/131)   \u001b[K\rremote: Compressing objects:  89% (117/131)   \u001b[K\rremote: Compressing objects:  90% (118/131)   \u001b[K\rremote: Compressing objects:  91% (120/131)   \u001b[K\rremote: Compressing objects:  92% (121/131)   \u001b[K\rremote: Compressing objects:  93% (122/131)   \u001b[K\rremote: Compressing objects:  94% (124/131)   \u001b[K\rremote: Compressing objects:  95% (125/131)   \u001b[K\rremote: Compressing objects:  96% (126/131)   \u001b[K\rremote: Compressing objects:  97% (128/131)   \u001b[K\rremote: Compressing objects:  98% (129/131)   \u001b[K\rremote: Compressing objects:  99% (130/131)   \u001b[K\rremote: Compressing objects: 100% (131/131)   \u001b[K\rremote: Compressing objects: 100% (131/131), done.\u001b[K\n",
            "Receiving objects:   0% (1/189)   \rReceiving objects:   1% (2/189)   \rReceiving objects:   2% (4/189)   \rReceiving objects:   3% (6/189)   \rReceiving objects:   4% (8/189)   \rReceiving objects:   5% (10/189)   \rReceiving objects:   6% (12/189)   \rReceiving objects:   7% (14/189)   \rReceiving objects:   8% (16/189)   \rReceiving objects:   9% (18/189)   \rReceiving objects:  10% (19/189)   \rReceiving objects:  11% (21/189)   \rReceiving objects:  12% (23/189)   \rReceiving objects:  13% (25/189)   \rReceiving objects:  14% (27/189)   \rReceiving objects:  15% (29/189)   \rReceiving objects:  16% (31/189)   \rReceiving objects:  17% (33/189)   \rReceiving objects:  18% (35/189)   \rReceiving objects:  19% (36/189)   \rReceiving objects:  20% (38/189)   \rReceiving objects:  21% (40/189)   \rReceiving objects:  22% (42/189)   \rremote: Total 189 (delta 111), reused 125 (delta 53), pack-reused 0\u001b[K\n",
            "Receiving objects:  23% (44/189)   \rReceiving objects:  24% (46/189)   \rReceiving objects:  25% (48/189)   \rReceiving objects:  26% (50/189)   \rReceiving objects:  27% (52/189)   \rReceiving objects:  28% (53/189)   \rReceiving objects:  29% (55/189)   \rReceiving objects:  30% (57/189)   \rReceiving objects:  31% (59/189)   \rReceiving objects:  32% (61/189)   \rReceiving objects:  33% (63/189)   \rReceiving objects:  34% (65/189)   \rReceiving objects:  35% (67/189)   \rReceiving objects:  36% (69/189)   \rReceiving objects:  37% (70/189)   \rReceiving objects:  38% (72/189)   \rReceiving objects:  39% (74/189)   \rReceiving objects:  40% (76/189)   \rReceiving objects:  41% (78/189)   \rReceiving objects:  42% (80/189)   \rReceiving objects:  43% (82/189)   \rReceiving objects:  44% (84/189)   \rReceiving objects:  45% (86/189)   \rReceiving objects:  46% (87/189)   \rReceiving objects:  47% (89/189)   \rReceiving objects:  48% (91/189)   \rReceiving objects:  49% (93/189)   \rReceiving objects:  50% (95/189)   \rReceiving objects:  51% (97/189)   \rReceiving objects:  52% (99/189)   \rReceiving objects:  53% (101/189)   \rReceiving objects:  54% (103/189)   \rReceiving objects:  55% (104/189)   \rReceiving objects:  56% (106/189)   \rReceiving objects:  57% (108/189)   \rReceiving objects:  58% (110/189)   \rReceiving objects:  59% (112/189)   \rReceiving objects:  60% (114/189)   \rReceiving objects:  61% (116/189)   \rReceiving objects:  62% (118/189)   \rReceiving objects:  63% (120/189)   \rReceiving objects:  64% (121/189)   \rReceiving objects:  65% (123/189)   \rReceiving objects:  66% (125/189)   \rReceiving objects:  67% (127/189)   \rReceiving objects:  68% (129/189)   \rReceiving objects:  69% (131/189)   \rReceiving objects:  70% (133/189)   \rReceiving objects:  71% (135/189)   \rReceiving objects:  72% (137/189)   \rReceiving objects:  73% (138/189)   \rReceiving objects:  74% (140/189)   \rReceiving objects:  75% (142/189)   \rReceiving objects:  76% (144/189)   \rReceiving objects:  77% (146/189)   \rReceiving objects:  78% (148/189)   \rReceiving objects:  79% (150/189)   \rReceiving objects:  80% (152/189)   \rReceiving objects:  81% (154/189)   \rReceiving objects:  82% (155/189)   \rReceiving objects:  83% (157/189)   \rReceiving objects:  84% (159/189)   \rReceiving objects:  85% (161/189)   \rReceiving objects:  86% (163/189)   \rReceiving objects:  87% (165/189)   \rReceiving objects:  88% (167/189)   \rReceiving objects:  89% (169/189)   \rReceiving objects:  90% (171/189)   \rReceiving objects:  91% (172/189)   \rReceiving objects:  92% (174/189)   \rReceiving objects:  93% (176/189)   \rReceiving objects:  94% (178/189)   \rReceiving objects:  95% (180/189)   \rReceiving objects:  96% (182/189)   \rReceiving objects:  97% (184/189)   \rReceiving objects:  98% (186/189)   \rReceiving objects:  99% (188/189)   \rReceiving objects: 100% (189/189)   \rReceiving objects: 100% (189/189), 40.04 KiB | 10.01 MiB/s, done.\n",
            "Resolving deltas: 100% (111/111), done.\n",
            "Cloning into 'bluerov_ffg'...\n",
            "remote: Enumerating objects: 246, done.\u001b[K\n",
            "remote: Total 246 (delta 0), reused 0 (delta 0), pack-reused 246\u001b[K\n",
            "Receiving objects: 100% (246/246), 7.01 MiB | 19.40 MiB/s, done.\n",
            "Resolving deltas: 100% (130/130), done.\n",
            "Cloning into 'Sophus'...\n",
            "remote: Enumerating objects: 2022, done.\u001b[K\n",
            "remote: Total 2022 (delta 0), reused 0 (delta 0), pack-reused 2022\n",
            "Receiving objects: 100% (2022/2022), 846.78 KiB | 12.64 MiB/s, done.\n",
            "Resolving deltas: 100% (1449/1449), done.\n",
            "\u001b[0m\u001b[01;34m6dof_ctrl\u001b[0m/    \u001b[01;32mngrok\u001b[0m*                        \u001b[01;34msample_data\u001b[0m/\n",
            "\u001b[01;34mbluerov_ffg\u001b[0m/  ngrok-stable-linux-amd64.zip  \u001b[01;34mSophus\u001b[0m/\n"
          ],
          "name": "stdout"
        }
      ]
    }
  ]
}